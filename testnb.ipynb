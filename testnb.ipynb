{
 "cells": [
  {
   "cell_type": "code",
   "execution_count": 2,
   "metadata": {},
   "outputs": [
    {
     "name": "stdout",
     "output_type": "stream",
     "text": [
      "resample-data/User26_RU_02.csv\n"
     ]
    },
    {
     "ename": "ValueError",
     "evalue": "Unrecognized character e in format string",
     "output_type": "error",
     "traceback": [
      "\u001b[0;31m---------------------------------------------------------------------------\u001b[0m",
      "\u001b[0;31mValueError\u001b[0m                                Traceback (most recent call last)",
      "\u001b[1;32m/Users/henghong/Desktop/TAMU/CS624 Sketch Recognition/HW1/testnb.ipynb Cell 1\u001b[0m in \u001b[0;36m<cell line: 70>\u001b[0;34m()\u001b[0m\n\u001b[1;32m     <a href='vscode-notebook-cell:/Users/henghong/Desktop/TAMU/CS624%20Sketch%20Recognition/HW1/testnb.ipynb#W0sZmlsZQ%3D%3D?line=65'>66</a>\u001b[0m         bx\u001b[39m.\u001b[39mplot(df_result\u001b[39m.\u001b[39miloc[:,\u001b[39m0\u001b[39m], df_result\u001b[39m.\u001b[39miloc[:,\u001b[39m1\u001b[39m], \u001b[39mf\u001b[39m\u001b[39m\"\u001b[39m\u001b[39m{\u001b[39;00mf\u001b[39m}\u001b[39;00m\u001b[39m\"\u001b[39m)\n\u001b[1;32m     <a href='vscode-notebook-cell:/Users/henghong/Desktop/TAMU/CS624%20Sketch%20Recognition/HW1/testnb.ipynb#W0sZmlsZQ%3D%3D?line=69'>70</a>\u001b[0m \u001b[39mif\u001b[39;00m \u001b[39m__name__\u001b[39m \u001b[39m==\u001b[39m \u001b[39m\"\u001b[39m\u001b[39m__main__\u001b[39m\u001b[39m\"\u001b[39m:\n\u001b[0;32m---> <a href='vscode-notebook-cell:/Users/henghong/Desktop/TAMU/CS624%20Sketch%20Recognition/HW1/testnb.ipynb#W0sZmlsZQ%3D%3D?line=70'>71</a>\u001b[0m     resample()\n",
      "\u001b[1;32m/Users/henghong/Desktop/TAMU/CS624 Sketch Recognition/HW1/testnb.ipynb Cell 1\u001b[0m in \u001b[0;36mresample\u001b[0;34m()\u001b[0m\n\u001b[1;32m     <a href='vscode-notebook-cell:/Users/henghong/Desktop/TAMU/CS624%20Sketch%20Recognition/HW1/testnb.ipynb#W0sZmlsZQ%3D%3D?line=61'>62</a>\u001b[0m \u001b[39mprint\u001b[39m(f)\n\u001b[1;32m     <a href='vscode-notebook-cell:/Users/henghong/Desktop/TAMU/CS624%20Sketch%20Recognition/HW1/testnb.ipynb#W0sZmlsZQ%3D%3D?line=62'>63</a>\u001b[0m fig, ax \u001b[39m=\u001b[39m plt\u001b[39m.\u001b[39msubplots()\n\u001b[0;32m---> <a href='vscode-notebook-cell:/Users/henghong/Desktop/TAMU/CS624%20Sketch%20Recognition/HW1/testnb.ipynb#W0sZmlsZQ%3D%3D?line=63'>64</a>\u001b[0m ax\u001b[39m.\u001b[39;49mplot(x_col, y_col, \u001b[39mf\u001b[39;49m\u001b[39m\"\u001b[39;49m\u001b[39m{\u001b[39;49;00mf\u001b[39m}\u001b[39;49;00m\u001b[39m\"\u001b[39;49m)\n\u001b[1;32m     <a href='vscode-notebook-cell:/Users/henghong/Desktop/TAMU/CS624%20Sketch%20Recognition/HW1/testnb.ipynb#W0sZmlsZQ%3D%3D?line=64'>65</a>\u001b[0m fig, bx \u001b[39m=\u001b[39m plt\u001b[39m.\u001b[39msubplots()\n\u001b[1;32m     <a href='vscode-notebook-cell:/Users/henghong/Desktop/TAMU/CS624%20Sketch%20Recognition/HW1/testnb.ipynb#W0sZmlsZQ%3D%3D?line=65'>66</a>\u001b[0m bx\u001b[39m.\u001b[39mplot(df_result\u001b[39m.\u001b[39miloc[:,\u001b[39m0\u001b[39m], df_result\u001b[39m.\u001b[39miloc[:,\u001b[39m1\u001b[39m], \u001b[39mf\u001b[39m\u001b[39m\"\u001b[39m\u001b[39m{\u001b[39;00mf\u001b[39m}\u001b[39;00m\u001b[39m\"\u001b[39m)\n",
      "File \u001b[0;32m~/opt/anaconda3/lib/python3.9/site-packages/matplotlib/axes/_axes.py:1632\u001b[0m, in \u001b[0;36mAxes.plot\u001b[0;34m(self, scalex, scaley, data, *args, **kwargs)\u001b[0m\n\u001b[1;32m   1390\u001b[0m \u001b[39m\"\"\"\u001b[39;00m\n\u001b[1;32m   1391\u001b[0m \u001b[39mPlot y versus x as lines and/or markers.\u001b[39;00m\n\u001b[1;32m   1392\u001b[0m \n\u001b[0;32m   (...)\u001b[0m\n\u001b[1;32m   1629\u001b[0m \u001b[39m(``'green'``) or hex strings (``'#008000'``).\u001b[39;00m\n\u001b[1;32m   1630\u001b[0m \u001b[39m\"\"\"\u001b[39;00m\n\u001b[1;32m   1631\u001b[0m kwargs \u001b[39m=\u001b[39m cbook\u001b[39m.\u001b[39mnormalize_kwargs(kwargs, mlines\u001b[39m.\u001b[39mLine2D)\n\u001b[0;32m-> 1632\u001b[0m lines \u001b[39m=\u001b[39m [\u001b[39m*\u001b[39m\u001b[39mself\u001b[39m\u001b[39m.\u001b[39m_get_lines(\u001b[39m*\u001b[39margs, data\u001b[39m=\u001b[39mdata, \u001b[39m*\u001b[39m\u001b[39m*\u001b[39mkwargs)]\n\u001b[1;32m   1633\u001b[0m \u001b[39mfor\u001b[39;00m line \u001b[39min\u001b[39;00m lines:\n\u001b[1;32m   1634\u001b[0m     \u001b[39mself\u001b[39m\u001b[39m.\u001b[39madd_line(line)\n",
      "File \u001b[0;32m~/opt/anaconda3/lib/python3.9/site-packages/matplotlib/axes/_base.py:312\u001b[0m, in \u001b[0;36m_process_plot_var_args.__call__\u001b[0;34m(self, data, *args, **kwargs)\u001b[0m\n\u001b[1;32m    310\u001b[0m     this \u001b[39m+\u001b[39m\u001b[39m=\u001b[39m args[\u001b[39m0\u001b[39m],\n\u001b[1;32m    311\u001b[0m     args \u001b[39m=\u001b[39m args[\u001b[39m1\u001b[39m:]\n\u001b[0;32m--> 312\u001b[0m \u001b[39myield from\u001b[39;00m \u001b[39mself\u001b[39;49m\u001b[39m.\u001b[39;49m_plot_args(this, kwargs)\n",
      "File \u001b[0;32m~/opt/anaconda3/lib/python3.9/site-packages/matplotlib/axes/_base.py:449\u001b[0m, in \u001b[0;36m_process_plot_var_args._plot_args\u001b[0;34m(self, tup, kwargs, return_kwargs)\u001b[0m\n\u001b[1;32m    446\u001b[0m \u001b[39mif\u001b[39;00m \u001b[39mlen\u001b[39m(tup) \u001b[39m>\u001b[39m \u001b[39m1\u001b[39m \u001b[39mand\u001b[39;00m \u001b[39misinstance\u001b[39m(tup[\u001b[39m-\u001b[39m\u001b[39m1\u001b[39m], \u001b[39mstr\u001b[39m):\n\u001b[1;32m    447\u001b[0m     \u001b[39m# xy is tup with fmt stripped (could still be (y,) only)\u001b[39;00m\n\u001b[1;32m    448\u001b[0m     \u001b[39m*\u001b[39mxy, fmt \u001b[39m=\u001b[39m tup\n\u001b[0;32m--> 449\u001b[0m     linestyle, marker, color \u001b[39m=\u001b[39m _process_plot_format(fmt)\n\u001b[1;32m    450\u001b[0m \u001b[39melif\u001b[39;00m \u001b[39mlen\u001b[39m(tup) \u001b[39m==\u001b[39m \u001b[39m3\u001b[39m:\n\u001b[1;32m    451\u001b[0m     \u001b[39mraise\u001b[39;00m \u001b[39mValueError\u001b[39;00m(\u001b[39m'\u001b[39m\u001b[39mthird arg must be a format string\u001b[39m\u001b[39m'\u001b[39m)\n",
      "File \u001b[0;32m~/opt/anaconda3/lib/python3.9/site-packages/matplotlib/axes/_base.py:199\u001b[0m, in \u001b[0;36m_process_plot_format\u001b[0;34m(fmt)\u001b[0m\n\u001b[1;32m    197\u001b[0m         i \u001b[39m+\u001b[39m\u001b[39m=\u001b[39m \u001b[39m2\u001b[39m\n\u001b[1;32m    198\u001b[0m     \u001b[39melse\u001b[39;00m:\n\u001b[0;32m--> 199\u001b[0m         \u001b[39mraise\u001b[39;00m \u001b[39mValueError\u001b[39;00m(\n\u001b[1;32m    200\u001b[0m             \u001b[39m'\u001b[39m\u001b[39mUnrecognized character \u001b[39m\u001b[39m%c\u001b[39;00m\u001b[39m in format string\u001b[39m\u001b[39m'\u001b[39m \u001b[39m%\u001b[39m c)\n\u001b[1;32m    202\u001b[0m \u001b[39mif\u001b[39;00m linestyle \u001b[39mis\u001b[39;00m \u001b[39mNone\u001b[39;00m \u001b[39mand\u001b[39;00m marker \u001b[39mis\u001b[39;00m \u001b[39mNone\u001b[39;00m:\n\u001b[1;32m    203\u001b[0m     linestyle \u001b[39m=\u001b[39m mpl\u001b[39m.\u001b[39mrcParams[\u001b[39m'\u001b[39m\u001b[39mlines.linestyle\u001b[39m\u001b[39m'\u001b[39m]\n",
      "\u001b[0;31mValueError\u001b[0m: Unrecognized character e in format string"
     ]
    },
    {
     "data": {
      "image/png": "[encoded data removed]",
      "text/plain": [
       "<Figure size 432x288 with 1 Axes>"
      ]
     },
     "metadata": {
      "needs_background": "light"
     },
     "output_type": "display_data"
    }
   ],
   "source": [
    "import pandas as pd\n",
    "import math\n",
    "import os\n",
    "import glob\n",
    "import matplotlib.pyplot as plt\n",
    "\n",
    "def delta(col, ind1, ind2=None):\n",
    "    if ind2 == None:\n",
    "        return col[ind1] - col[ind1-1]\n",
    "    return col[ind1] - col[ind2]\n",
    "\n",
    "def cleanData(df):\n",
    "    # delete rows that have repeated values that are the same as the one right above. \n",
    "    try: \n",
    "        for index, row in df.iterrows():\n",
    "            if row[1] == df.iloc[index-1][1] and row[2] == df.iloc[index-1][2]:\n",
    "                df = df.drop(labels=index, axis=0)\n",
    "    except:\n",
    "        pass\n",
    "\n",
    "def calculateRubine(df):\n",
    "    cleanData(df)\n",
    "    x_col = df.iloc[:, 1]\n",
    "    y_col = df.iloc[:, 2]\n",
    "    f8 = 0\n",
    "    for i in range(1, df.shape[0], 1):\n",
    "        f8 += math.sqrt(delta(x_col, i)**2 + delta(y_col, i)**2)\n",
    "    return x_col, y_col, f8\n",
    "\n",
    "def indexPoint(df, startX, startY):\n",
    "    df[startX]\n",
    "\n",
    "def resample():\n",
    "    path = \"resample-data/\"\n",
    "    csv_files = glob.glob(os.path.join(path, \"*.csv\"))\n",
    "    for f in csv_files:\n",
    "        df = pd.read_csv(f, header=None)\n",
    "        x_col, y_col, length = calculateRubine(df)\n",
    "        results = [[x_col[0], y_col[0]]]\n",
    "        unit = length / 63\n",
    "        ind = 1\n",
    "        while ind < 64:\n",
    "            # if unit*ind is between some points, then interpolate the point between these two points, \n",
    "            # otherwise, index to next point and repeat the first step.\n",
    "            f8 = 0\n",
    "            num = 0\n",
    "            while True:\n",
    "                if unit * ind > f8:\n",
    "                    f8_change = math.sqrt(delta(x_col, num + 1) ** 2 + delta(y_col, num + 1) ** 2)\n",
    "                    f8 += f8_change\n",
    "                    num += 1\n",
    "                else:\n",
    "                    x_value = x_col[num - 1] + (unit * ind - (f8 - f8_change)) * (x_col[num] - x_col[num - 1]) / f8_change\n",
    "                    y_value = y_col[num - 1] + (unit * ind - (f8 - f8_change)) * (y_col[num] - y_col[num - 1]) / f8_change\n",
    "                    results.append([x_value, y_value])\n",
    "                    ind += 1\n",
    "                    break\n",
    "        df_result = pd.DataFrame(results)\n",
    "        folder = f.split(\"/\")[0] + \"-new\"\n",
    "        name = f.split(\"/\")[1].split(\".\")[0] + \"_resampled.csv\"\n",
    "        df_result.to_csv(folder + \"/\" + name, header=False, index=False)\n",
    "        print(f)\n",
    "        fig, ax = plt.subplots()\n",
    "        ax.plot(x_col, y_col, f\"{f}\")\n",
    "        plt.title(f'{f}')\n",
    "        fig, bx = plt.subplots()\n",
    "        bx.plot(df_result.iloc[:,0], df_result.iloc[:,1], f\"{f}\")\n",
    "        plt.title(f'{f}')\n",
    "        plt.show()\n",
    "\n",
    "\n",
    "        \n",
    "if __name__ == \"__main__\":\n",
    "    resample()"
   ]
  }
 ],
 "metadata": {
  "kernelspec": {
   "display_name": "Python 3.9.12 ('base')",
   "language": "python",
   "name": "python3"
  },
  "language_info": {
   "codemirror_mode": {
    "name": "ipython",
    "version": 3
   },
   "file_extension": ".py",
   "mimetype": "text/x-python",
   "name": "python",
   "nbconvert_exporter": "python",
   "pygments_lexer": "ipython3",
   "version": "3.9.12"
  },
  "orig_nbformat": 4,
  "vscode": {
   "interpreter": {
    "hash": "3c47b7e4abb862351f847362d5a4be1717906988c2d38db0a738787e53c2242c"
   }
  }
 },
 "nbformat": 4,
 "nbformat_minor": 2
}
