{
 "cells": [
  {
   "cell_type": "code",
   "execution_count": 5,
   "metadata": {},
   "outputs": [
    {
     "name": "stdout",
     "output_type": "stream",
     "text": [
      "resample-data/User26_RU_02.csv\n"
     ]
    },
    {
     "data": {
      "image/png": "[encoded data removed]",
      "text/plain": [
       "<Figure size 432x288 with 1 Axes>"
      ]
     },
     "metadata": {
      "needs_background": "light"
     },
     "output_type": "display_data"
    },
    {
     "data": {
      "image/png": "[encoded data removed]",
      "text/plain": [
       "<Figure size 432x288 with 1 Axes>"
      ]
     },
     "metadata": {
      "needs_background": "light"
     },
     "output_type": "display_data"
    }
   ],
   "source": [
    "import pandas as pd\n",
    "import math\n",
    "import os\n",
    "import glob\n",
    "import matplotlib.pyplot as plt\n",
    "\n",
    "def delta(col, ind1, ind2=None):\n",
    "    if ind2 == None:\n",
    "        return col[ind1] - col[ind1-1]\n",
    "    return col[ind1] - col[ind2]\n",
    "\n",
    "def cleanData(df):\n",
    "    # delete rows that have repeated values that are the same as the one right above. \n",
    "    try: \n",
    "        for index, row in df.iterrows():\n",
    "            if row[1] == df.iloc[index-1][1] and row[2] == df.iloc[index-1][2]:\n",
    "                df = df.drop(labels=index, axis=0)\n",
    "    except:\n",
    "        pass\n",
    "\n",
    "def calculateRubine(df):\n",
    "    cleanData(df)\n",
    "    x_col = df.iloc[:, 1]\n",
    "    y_col = df.iloc[:, 2]\n",
    "    f8 = 0\n",
    "    for i in range(1, df.shape[0], 1):\n",
    "        f8 += math.sqrt(delta(x_col, i)**2 + delta(y_col, i)**2)\n",
    "    return x_col, y_col, f8\n",
    "\n",
    "def indexPoint(df, startX, startY):\n",
    "    df[startX]\n",
    "\n",
    "def resample():\n",
    "    path = \"resample-data/\"\n",
    "    csv_files = glob.glob(os.path.join(path, \"*.csv\"))\n",
    "    for f in csv_files:\n",
    "        df = pd.read_csv(f, header=None)\n",
    "        x_col, y_col, length = calculateRubine(df)\n",
    "        results = [[x_col[0], y_col[0]]]\n",
    "        unit = length / 63\n",
    "        ind = 1\n",
    "        while ind < 64:\n",
    "            # if unit*ind is between some points, then interpolate the point between these two points, \n",
    "            # otherwise, index to next point and repeat the first step.\n",
    "            f8 = 0\n",
    "            num = 0\n",
    "            while True:\n",
    "                if unit * ind > f8:\n",
    "                    f8_change = math.sqrt(delta(x_col, num + 1) ** 2 + delta(y_col, num + 1) ** 2)\n",
    "                    f8 += f8_change\n",
    "                    num += 1\n",
    "                else:\n",
    "                    x_value = x_col[num - 1] + (unit * ind - (f8 - f8_change)) * (x_col[num] - x_col[num - 1]) / f8_change\n",
    "                    y_value = y_col[num - 1] + (unit * ind - (f8 - f8_change)) * (y_col[num] - y_col[num - 1]) / f8_change\n",
    "                    results.append([x_value, y_value])\n",
    "                    ind += 1\n",
    "                    break\n",
    "        df_result = pd.DataFrame(results)\n",
    "        folder = f.split(\"/\")[0] + \"-new\"\n",
    "        name = f.split(\"/\")[1].split(\".\")[0] + \"_resampled.csv\"\n",
    "        df_result.to_csv(folder + \"/\" + name, header=False, index=False)\n",
    "        fig, ax = plt.subplots()\n",
    "        ax.plot(x_col, y_col)\n",
    "        fig, bx = plt.subplots()\n",
    "        bx.plot(df_result.iloc[:,0], df_result.iloc[:,1])\n",
    "        \n",
    "\n",
    "        \n",
    "if __name__ == \"__main__\":\n",
    "    resample()"
   ]
  }
 ],
 "metadata": {
  "kernelspec": {
   "display_name": "Python 3.9.12 ('base')",
   "language": "python",
   "name": "python3"
  },
  "language_info": {
   "codemirror_mode": {
    "name": "ipython",
    "version": 3
   },
   "file_extension": ".py",
   "mimetype": "text/x-python",
   "name": "python",
   "nbconvert_exporter": "python",
   "pygments_lexer": "ipython3",
   "version": "3.9.12"
  },
  "orig_nbformat": 4,
  "vscode": {
   "interpreter": {
    "hash": "3c47b7e4abb862351f847362d5a4be1717906988c2d38db0a738787e53c2242c"
   }
  }
 },
 "nbformat": 4,
 "nbformat_minor": 2
}
