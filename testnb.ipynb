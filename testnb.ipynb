{
 "cells": [
  {
   "cell_type": "code",
   "execution_count": 1,
   "metadata": {},
   "outputs": [
    {
     "data": {
      "text/plain": [
       "(47, 3)"
      ]
     },
     "execution_count": 1,
     "metadata": {},
     "output_type": "execute_result"
    }
   ],
   "source": [
    "import pandas as pd\n",
    "import math\n",
    "import os\n",
    "from string import ascii_lowercase\n",
    "# df = pd.read_csv('data/letters-csv/a/a_4.csv')\n",
    "df = pd.read_csv('data/sample-csv/shape_1.csv')\n",
    "df.shape"
   ]
  },
  {
   "cell_type": "code",
   "execution_count": 2,
   "metadata": {},
   "outputs": [],
   "source": [
    "x_col = df[\"x\"]\n",
    "y_col = df[\"y\"]\n",
    "t_col = df[\"time\"]\n",
    "x_max = max(x_col)\n",
    "x_min = min(x_col)\n",
    "y_max = max(y_col)\n",
    "y_min = min(y_col)"
   ]
  },
  {
   "cell_type": "code",
   "execution_count": 3,
   "metadata": {},
   "outputs": [
    {
     "ename": "TypeError",
     "evalue": "'tuple' object is not callable",
     "output_type": "error",
     "traceback": [
      "\u001b[0;31m---------------------------------------------------------------------------\u001b[0m",
      "\u001b[0;31mTypeError\u001b[0m                                 Traceback (most recent call last)",
      "\u001b[1;32m/Users/henghong/Desktop/TAMU/CS624 Sketch Recognition/HW1/testnb.ipynb Cell 3\u001b[0m in \u001b[0;36m<cell line: 8>\u001b[0;34m()\u001b[0m\n\u001b[1;32m      <a href='vscode-notebook-cell:/Users/henghong/Desktop/TAMU/CS624%20Sketch%20Recognition/HW1/testnb.ipynb#W2sZmlsZQ%3D%3D?line=5'>6</a>\u001b[0m \u001b[39miter\u001b[39m \u001b[39m=\u001b[39m df\u001b[39m.\u001b[39miterrows()\n\u001b[1;32m      <a href='vscode-notebook-cell:/Users/henghong/Desktop/TAMU/CS624%20Sketch%20Recognition/HW1/testnb.ipynb#W2sZmlsZQ%3D%3D?line=6'>7</a>\u001b[0m \u001b[39mnext\u001b[39m \u001b[39m=\u001b[39m \u001b[39mnext\u001b[39m(\u001b[39miter\u001b[39m)\n\u001b[0;32m----> <a href='vscode-notebook-cell:/Users/henghong/Desktop/TAMU/CS624%20Sketch%20Recognition/HW1/testnb.ipynb#W2sZmlsZQ%3D%3D?line=7'>8</a>\u001b[0m \u001b[39mwhile\u001b[39;00m \u001b[39mnext\u001b[39;49m(\u001b[39mnext\u001b[39;49m):\n\u001b[1;32m      <a href='vscode-notebook-cell:/Users/henghong/Desktop/TAMU/CS624%20Sketch%20Recognition/HW1/testnb.ipynb#W2sZmlsZQ%3D%3D?line=8'>9</a>\u001b[0m     \u001b[39mif\u001b[39;00m \u001b[39mnext\u001b[39m[\u001b[39m\"\u001b[39m\u001b[39mx\u001b[39m\u001b[39m\"\u001b[39m] \u001b[39m==\u001b[39m \u001b[39mnext\u001b[39m(\u001b[39mnext\u001b[39m)[\u001b[39m\"\u001b[39m\u001b[39mx\u001b[39m\u001b[39m\"\u001b[39m] \u001b[39mand\u001b[39;00m \u001b[39mnext\u001b[39m[\u001b[39m\"\u001b[39m\u001b[39my\u001b[39m\u001b[39m\"\u001b[39m] \u001b[39m==\u001b[39m \u001b[39mnext\u001b[39m(\u001b[39mnext\u001b[39m)[\u001b[39m\"\u001b[39m\u001b[39my\u001b[39m\u001b[39m\"\u001b[39m]:\n\u001b[1;32m     <a href='vscode-notebook-cell:/Users/henghong/Desktop/TAMU/CS624%20Sketch%20Recognition/HW1/testnb.ipynb#W2sZmlsZQ%3D%3D?line=9'>10</a>\u001b[0m         df \u001b[39m=\u001b[39m df\u001b[39m.\u001b[39mdrop(\u001b[39mnext\u001b[39m)\n",
      "\u001b[0;31mTypeError\u001b[0m: 'tuple' object is not callable"
     ]
    }
   ],
   "source": [
    "# delete rows that have repeated values that are the same as the one right above. \n",
    "# for index, row in df.iterrows():\n",
    "#     if row[\"x\"] == df.iloc[index-1][\"x\"] and row[\"y\"] == df.iloc[index-1][\"y\"]:\n",
    "#         df = df.drop(labels=index, axis=0)\n",
    "df.tail(5)\n",
    "iter = df.iterrows()\n",
    "while True:\n",
    "    nextRow = next(iter)\n",
    "    if nextRow == None: break\n",
    "    if nextRow[\"x\"] == next(next)[\"x\"] and next[\"y\"] == next(next)[\"y\"]:\n",
    "        df = df.drop(next)\n",
    "df.tail(5)"
   ]
  },
  {
   "cell_type": "code",
   "execution_count": null,
   "metadata": {},
   "outputs": [],
   "source": [
    "for index, row in df.iterrows():\n",
    "    if row[\"x\"] == df.iloc[index-1][\"x\"] and row[\"y\"] == df.iloc[index-1][\"y\"]:\n",
    "        df = df.drop(labels=index, axis=0)"
   ]
  },
  {
   "cell_type": "code",
   "execution_count": null,
   "metadata": {},
   "outputs": [],
   "source": [
    "def findNonRepeated(start, *args): #args are the columns name to be checked\n",
    "    for i in range (start, df.shape[0], 1):\n",
    "        different = True\n",
    "        for arg in args:\n",
    "            if df.iloc(i)[arg] != df.iloc(i-1)[arg]: continue\n",
    "            else: different = False\n",
    "        if different == True:\n",
    "            return i\n",
    "    return -1\n",
    "    "
   ]
  },
  {
   "cell_type": "code",
   "execution_count": 6,
   "metadata": {},
   "outputs": [],
   "source": [
    "def delta(col, ind1, ind2=None):\n",
    "    if ind2 == None:\n",
    "        return col[ind1] - col[ind1-1]\n",
    "    return col[ind1] - col[ind2]"
   ]
  },
  {
   "cell_type": "code",
   "execution_count": 21,
   "metadata": {},
   "outputs": [],
   "source": [
    "def calculateRubine(df):\n",
    "\n",
    "    x_col = df[\"x\"]\n",
    "    y_col = df[\"y\"]\n",
    "    t_col = df[\"time\"]\n",
    "    x_max = max(x_col)\n",
    "    x_min = min(x_col)\n",
    "    y_max = max(y_col)\n",
    "    y_min = min(y_col)\n",
    "\n",
    "    f1 = (x_col[2] - x_col[0]) / math.sqrt((y_col[2] - y_col[0])**2 + (x_col[2] - x_col[0])**2)\n",
    "    f2 = (y_col[2] - y_col[0]) / math.sqrt((y_col[2] - y_col[0])**2 + (x_col[2] - x_col[0])**2)\n",
    "    f3 = math.sqrt((y_max - y_min)**2 + (x_max - x_min)**2)\n",
    "    f4 = math.atan((y_max - y_min) / (x_max - x_min))\n",
    "    f5 = math.sqrt((x_col[-1:] - x_col[0])**2 + (y_col[-1:] - y_col[0])**2)\n",
    "    f6 = (x_col[-1:] - x_col[0]) / f5\n",
    "    f7 = (y_col[-1:] - y_col[0]) / f5\n",
    "\n",
    "    f8 = 0\n",
    "    for i in range(1, df.shape[0], 1):\n",
    "        f8 += math.sqrt(delta(x_col, i)**2 + delta(y_col, i)**2)\n",
    "\n",
    "    f9 = 0\n",
    "    f10 = 0\n",
    "    f11 = 0\n",
    "    for i in range (2, df.shape[0], 1):\n",
    "        # print(_delta(x_col, i) * _delta(x_col, i-1))\n",
    "        # print(_delta(y_col, i) * _delta(y_col, i-1))\n",
    "        # print(delta(x_col, i))\n",
    "        # print(delta(x_col, i-1))\n",
    "        # print(delta(y_col, i))\n",
    "        # print(delta(y_col, i-1))\n",
    "        # print()\n",
    "\n",
    "        nominator = (-delta(y_col, i) * delta(x_col, i-1) + delta(y_col, i-1) * delta(x_col, i))\n",
    "        denominator = (delta(x_col, i) * delta(x_col, i-1) + delta(y_col, i)   * delta(y_col, i-1))\n",
    "        f9 += math.atan2(nominator, denominator)\n",
    "        f10 += abs(f9)\n",
    "        f11 += f9**2\n",
    "\n",
    "    f12 = 0\n",
    "    for i in range(1, df.shape[0], 1):\n",
    "        if delta(t_col, i) == 0: continue\n",
    "        f12 = max(f12, (delta(x_col, i)**2 + delta(y_col, i)**2) / delta(t_col, i)**2)\n",
    "\n",
    "    f13 = t_col[-1:] - t_col[0]\n"
   ]
  },
  {
   "cell_type": "code",
   "execution_count": 26,
   "metadata": {},
   "outputs": [
    {
     "data": {
      "text/plain": [
       "['data/letters-csv/',\n",
       " 'data/letters-csv/r',\n",
       " 'data/letters-csv/u',\n",
       " 'data/letters-csv/i',\n",
       " 'data/letters-csv/n',\n",
       " 'data/letters-csv/g',\n",
       " 'data/letters-csv/z',\n",
       " 'data/letters-csv/t',\n",
       " 'data/letters-csv/s',\n",
       " 'data/letters-csv/a',\n",
       " 'data/letters-csv/f',\n",
       " 'data/letters-csv/o',\n",
       " 'data/letters-csv/h',\n",
       " 'data/letters-csv/m',\n",
       " 'data/letters-csv/j',\n",
       " 'data/letters-csv/c',\n",
       " 'data/letters-csv/d',\n",
       " 'data/letters-csv/v',\n",
       " 'data/letters-csv/q',\n",
       " 'data/letters-csv/x',\n",
       " 'data/letters-csv/e',\n",
       " 'data/letters-csv/b',\n",
       " 'data/letters-csv/k',\n",
       " 'data/letters-csv/l',\n",
       " 'data/letters-csv/y',\n",
       " 'data/letters-csv/p',\n",
       " 'data/letters-csv/w']"
      ]
     },
     "execution_count": 26,
     "metadata": {},
     "output_type": "execute_result"
    }
   ],
   "source": [
    "for character in ascii_lowercase:\n",
    "    for index in range (20):\n",
    "        path = \"data/letters-csv/\" + character + \"/\" + character + \"_\" + str(index+1) + \".csv\"\n",
    "        df = pd.read_csv(path)\n",
    "        "
   ]
  }
 ],
 "metadata": {
  "kernelspec": {
   "display_name": "Python 3.9.12 ('base')",
   "language": "python",
   "name": "python3"
  },
  "language_info": {
   "codemirror_mode": {
    "name": "ipython",
    "version": 3
   },
   "file_extension": ".py",
   "mimetype": "text/x-python",
   "name": "python",
   "nbconvert_exporter": "python",
   "pygments_lexer": "ipython3",
   "version": "3.9.12"
  },
  "orig_nbformat": 4,
  "vscode": {
   "interpreter": {
    "hash": "3c47b7e4abb862351f847362d5a4be1717906988c2d38db0a738787e53c2242c"
   }
  }
 },
 "nbformat": 4,
 "nbformat_minor": 2
}
